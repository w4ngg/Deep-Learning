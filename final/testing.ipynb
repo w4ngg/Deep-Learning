{
 "cells": [
  {
   "cell_type": "code",
   "execution_count": 1,
   "id": "3857fe07",
   "metadata": {},
   "outputs": [],
   "source": [
    "import sentencepiece as spm"
   ]
  },
  {
   "cell_type": "code",
   "execution_count": 6,
   "id": "8168aadb",
   "metadata": {},
   "outputs": [
    {
     "name": "stdout",
     "output_type": "stream",
     "text": [
      "Token IDs: [609, 769, 130, 513, 48, 257, 37, 10, 32, 446, 26, 560, 475, 724, 724, 169, 138, 724, 26, 1367, 25, 9, 15, 655]\n",
      "Decoded text: Xin chào các bạn đến với khóa học Deep Learning!\n",
      "Subwords: ['▁X', 'in', '▁ch', 'ào', '▁các', '▁bạn', '▁đến', '▁v', 'ới', '▁khó', 'a', '▁học', '▁D', 'e', 'e', 'p', '▁L', 'e', 'a', 'r', 'n', 'i', 'ng', '!']\n"
     ]
    }
   ],
   "source": [
    "\n",
    "spm.SentencePieceTrainer.train(\n",
    "    input='text.txt',                # đường dẫn file dữ liệu\n",
    "    model_prefix='test_spm',          # tên prefix cho output\n",
    "    vocab_size=2000,                 # số lượng vocab\n",
    "    model_type='unigram',                # loại mô hình: bpe | unigram | char | word\n",
    "    character_coverage=0.9995,       # bao phủ gần hết ký tự tiếng Việt\n",
    "    pad_id=0, unk_id=1, bos_id=2, eos_id=3\n",
    ")\n",
    "sp = spm.SentencePieceProcessor(model_file='test_spm.model')\n",
    "# Mã hóa\n",
    "text = \"Xin chào các bạn đến với khóa học Deep Learning!\"\n",
    "ids = sp.encode(text, out_type=int)\n",
    "print(\"Token IDs:\", ids)\n",
    "\n",
    "# Giải mã\n",
    "decoded = sp.decode(ids)\n",
    "print(\"Decoded text:\", decoded)\n",
    "\n",
    "# Xem các subword\n",
    "pieces = sp.encode(text, out_type=str)\n",
    "print(\"Subwords:\", pieces)\n"
   ]
  },
  {
   "cell_type": "code",
   "execution_count": null,
   "id": "6f88dd5f",
   "metadata": {},
   "outputs": [],
   "source": []
  }
 ],
 "metadata": {
  "kernelspec": {
   "display_name": "AI_HCM",
   "language": "python",
   "name": "python3"
  },
  "language_info": {
   "codemirror_mode": {
    "name": "ipython",
    "version": 3
   },
   "file_extension": ".py",
   "mimetype": "text/x-python",
   "name": "python",
   "nbconvert_exporter": "python",
   "pygments_lexer": "ipython3",
   "version": "3.10.14"
  }
 },
 "nbformat": 4,
 "nbformat_minor": 5
}
