{
 "cells": [
  {
   "cell_type": "code",
   "execution_count": 2,
   "id": "d308260e",
   "metadata": {},
   "outputs": [
    {
     "name": "stderr",
     "output_type": "stream",
     "text": [
      "d:\\Anacoda\\envs\\AI_HCM\\lib\\site-packages\\tqdm\\auto.py:21: TqdmWarning: IProgress not found. Please update jupyter and ipywidgets. See https://ipywidgets.readthedocs.io/en/stable/user_install.html\n",
      "  from .autonotebook import tqdm as notebook_tqdm\n"
     ]
    }
   ],
   "source": [
    "import underthesea"
   ]
  },
  {
   "cell_type": "code",
   "execution_count": 10,
   "id": "ff66423a",
   "metadata": {},
   "outputs": [
    {
     "name": "stdout",
     "output_type": "stream",
     "text": [
      "Collecting sentencepiece\n",
      "  Downloading sentencepiece-0.2.1-cp310-cp310-win_amd64.whl.metadata (10 kB)\n",
      "Downloading sentencepiece-0.2.1-cp310-cp310-win_amd64.whl (1.1 MB)\n",
      "   ---------------------------------------- 0.0/1.1 MB ? eta -:--:--\n",
      "   ---------------------------------------- 0.0/1.1 MB ? eta -:--:--\n",
      "   ---------------------------------------- 0.0/1.1 MB ? eta -:--:--\n",
      "   --------- ------------------------------ 0.3/1.1 MB ? eta -:--:--\n",
      "   --------- ------------------------------ 0.3/1.1 MB ? eta -:--:--\n",
      "   ------------------- -------------------- 0.5/1.1 MB 882.6 kB/s eta 0:00:01\n",
      "   ----------------------------- ---------- 0.8/1.1 MB 819.2 kB/s eta 0:00:01\n",
      "   ----------------------------- ---------- 0.8/1.1 MB 819.2 kB/s eta 0:00:01\n",
      "   ----------------------------- ---------- 0.8/1.1 MB 819.2 kB/s eta 0:00:01\n",
      "   ---------------------------------------- 1.1/1.1 MB 626.5 kB/s eta 0:00:00\n",
      "Installing collected packages: sentencepiece\n",
      "Successfully installed sentencepiece-0.2.1\n"
     ]
    }
   ],
   "source": [
    "!pip install sentencepiece"
   ]
  },
  {
   "cell_type": "code",
   "execution_count": null,
   "id": "614db2c5",
   "metadata": {},
   "outputs": [],
   "source": [
    "from underthesea import sent_tokenize,word_tokenize\n",
    "text = 'Taylor cho biết lúc đầu cô cảm thấy ngại với cô bạn thân Amanda nhưng rồi mọi thứ trôi qua nhanh chóng. Amanda cũng thoải mái với mối quan hệ này.'\n",
    "\n",
    "\n",
    "word_tokenize(text)"
   ]
  },
  {
   "cell_type": "code",
   "execution_count": 18,
   "id": "7dcc052a",
   "metadata": {},
   "outputs": [
    {
     "name": "stdout",
     "output_type": "stream",
     "text": [
      "Chuỗi gốc: Tôi bị gay\n",
      "Tokenized: ['▁Tôi', '▁bị', '▁g', 'ay']\n",
      "IDs: [655, 182, 26, 143]\n",
      "Giải mã lại: Tôi bị gay\n"
     ]
    }
   ],
   "source": [
    "import sentencepiece as spm\n",
    "\n",
    "# Huấn luyện tokenizer BPE với 8,000 tokens\n",
    "spm.SentencePieceTrainer.train(\n",
    "    input='data.txt',             # dữ liệu huấn luyện\n",
    "    model_prefix='vi_bpe',        # tên file model/tokenizer\n",
    "    vocab_size=7517,              # kích thước từ vựng\n",
    "    model_type='bpe',             # hoặc 'unigram', 'word', 'char'\n",
    "    character_coverage=0.9995,    # bao phủ gần hết ký tự tiếng Việt\n",
    "    pad_id=0, unk_id=1, bos_id=2, eos_id=3\n",
    ")\n",
    "import sentencepiece as spm\n",
    "\n",
    "# Load model đã huấn luyện\n",
    "sp = spm.SentencePieceProcessor()\n",
    "sp.load(\"vi_bpe.model\")\n",
    "\n",
    "# Ví dụ\n",
    "sentence = \"Tôi bị gay\"\n",
    "tokens = sp.encode(sentence, out_type=str)\n",
    "ids = sp.encode(sentence, out_type=int)\n",
    "decoded = sp.decode(ids)\n",
    "\n",
    "print(\"Chuỗi gốc:\", sentence)\n",
    "print(\"Tokenized:\", tokens)\n",
    "print(\"IDs:\", ids)\n",
    "print(\"Giải mã lại:\", decoded)\n"
   ]
  },
  {
   "cell_type": "code",
   "execution_count": null,
   "id": "6abbdb3e",
   "metadata": {},
   "outputs": [],
   "source": []
  }
 ],
 "metadata": {
  "kernelspec": {
   "display_name": "AI_HCM",
   "language": "python",
   "name": "python3"
  },
  "language_info": {
   "codemirror_mode": {
    "name": "ipython",
    "version": 3
   },
   "file_extension": ".py",
   "mimetype": "text/x-python",
   "name": "python",
   "nbconvert_exporter": "python",
   "pygments_lexer": "ipython3",
   "version": "3.10.14"
  }
 },
 "nbformat": 4,
 "nbformat_minor": 5
}
